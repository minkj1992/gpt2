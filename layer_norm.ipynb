{
 "cells": [
  {
   "cell_type": "code",
   "execution_count": 1,
   "metadata": {},
   "outputs": [
    {
     "data": {
      "text/html": [
       "\n",
       "<style>\n",
       "    .output-plaintext, .output-stream, .output {\n",
       "        font-family: -apple-system, BlinkMacSystemFont, \"Segoe UI\", Roboto, \"Helvetica Neue\", Arial, sans-serif, \"Apple Color Emoji\", \"Segoe UI Emoji\", \"Segoe UI Symbol\" !important;\n",
       "        line-height: 1.2 !important;\n",
       "        font-size: 15px !important;\n",
       "    }\n",
       "</style>\n"
      ],
      "text/plain": [
       "<IPython.core.display.HTML object>"
      ]
     },
     "execution_count": 1,
     "metadata": {},
     "output_type": "execute_result"
    }
   ],
   "source": [
    "from IPython.core.display import HTML\n",
    "HTML(r\"\"\"\n",
    "<style>\n",
    "    .output-plaintext, .output-stream, .output {\n",
    "        font-family: -apple-system, BlinkMacSystemFont, \"Segoe UI\", Roboto, \"Helvetica Neue\", Arial, sans-serif, \"Apple Color Emoji\", \"Segoe UI Emoji\", \"Segoe UI Symbol\" !important;\n",
    "        line-height: 1.2 !important;\n",
    "        font-size: 15px !important;\n",
    "    }\n",
    "</style>\n",
    "\"\"\")"
   ]
  },
  {
   "cell_type": "markdown",
   "metadata": {},
   "source": [
    "# 1. 환경 세팅\n",
    "\n",
    "\n",
    "- 라이브러리 다운로드\n",
    "\n",
    "```bash\n",
    "conda create -n gpt python=3.12 -y\n",
    "conda activate gpt\n",
    "# https://github.com/explosion/spaCy/issues/13528\n",
    "conda install \"numpy>=1.19.0,<2.0.0\" spacy -y  \n",
    "conda install pytorch::pytorch torchvision torchaudio torchtext -c pytorch -y\n",
    "conda install matplotlib tensorboard seaborn -y\n",
    "conda install conda-forge::tiktoken -y\n",
    "```\n",
    "\n",
    "- gpu setting\n"
   ]
  },
  {
   "cell_type": "code",
   "execution_count": 2,
   "metadata": {},
   "outputs": [],
   "source": [
    "#to define the models\n",
    "import torch\n",
    "import torch.nn as nn\n",
    "import torch.optim as optim\n",
    "import torchvision\n",
    "\n",
    "#to load,iterate and process the dataset\n",
    "import torchtext\n",
    "\n",
    "#to visualize loss plots on localhost while training\n",
    "# See https://pytorch.org/docs/stable/tensorboard.html for more details\n",
    "from torch.utils.tensorboard import SummaryWriter"
   ]
  },
  {
   "cell_type": "code",
   "execution_count": 3,
   "metadata": {},
   "outputs": [
    {
     "data": {
      "text/plain": [
       "('2.3.1', '0.18.1', '0.6.0')"
      ]
     },
     "execution_count": 3,
     "metadata": {},
     "output_type": "execute_result"
    }
   ],
   "source": [
    "torch.__version__, torchvision.__version__, torchtext.__version__"
   ]
  },
  {
   "cell_type": "code",
   "execution_count": 5,
   "metadata": {},
   "outputs": [],
   "source": [
    "\n",
    "import spacy\n",
    "import random\n",
    "import numpy as np\n",
    "\n",
    "\n",
    "\n",
    "from tqdm.notebook import tqdm\n",
    "import seaborn as sns\n",
    "import matplotlib.pyplot as plt\n",
    "import matplotlib.ticker as ticker\n",
    "\n",
    "sns.set_theme()"
   ]
  },
  {
   "cell_type": "code",
   "execution_count": 6,
   "metadata": {},
   "outputs": [
    {
     "name": "stdout",
     "output_type": "stream",
     "text": [
      "Using device: mps\n",
      "Using MPS (Metal Performance Shaders) on Mac\n"
     ]
    }
   ],
   "source": [
    "def get_device():\n",
    "    if torch.cuda.is_available():\n",
    "        return torch.device(\"cuda\")\n",
    "    elif torch.backends.mps.is_available():\n",
    "        return torch.device(\"mps\")\n",
    "    else:\n",
    "        return torch.device(\"cpu\")\n",
    "\n",
    "def setup_device():\n",
    "    device = get_device()\n",
    "    print(f\"Using device: {device}\")\n",
    "\n",
    "    if device.type == \"cuda\":\n",
    "        print(f\"CUDA Device: {torch.cuda.get_device_name(0)}\")\n",
    "        print(f\"CUDA Version: {torch.version.cuda}\")\n",
    "        torch.cuda.empty_cache()\n",
    "    elif device.type == \"mps\":\n",
    "        print(\"Using MPS (Metal Performance Shaders) on Mac\")\n",
    "    else:\n",
    "        print(\"Using CPU\")\n",
    "    return device\n",
    "\n",
    "# 사용 예시\n",
    "device = setup_device()"
   ]
  },
  {
   "cell_type": "code",
   "execution_count": 7,
   "metadata": {},
   "outputs": [],
   "source": [
    "BATCH_SIZE = 128\n",
    "SEED = 1024\n",
    "\n",
    "random.seed(SEED)\n",
    "np.random.seed(SEED)\n",
    "torch.manual_seed(SEED)\n",
    "torch.cuda.manual_seed(SEED)\n",
    "torch.backends.cudnn.deterministic = True"
   ]
  },
  {
   "cell_type": "markdown",
   "metadata": {},
   "source": [
    "\n",
    "# Attention is all you need\n",
    "\n",
    "지금부터 \"Attention is all you need\" 논문을 총 9가지 단계로 하나하나 개발해보도록 하겠습니다.\n",
    "\n",
    "\n",
    "![](./imgs/arch.png)\n",
    "\n",
    "\n",
    "저희는 Transformer 모델을 크게 7가지로 쪼개서 개발해보도록 하겠습니다. 이후 Train, Evaluation까지 확인해보겠습니다.\n",
    "\n",
    "\n",
    "![](./imgs/transformer_arch.png)\n",
    "\n",
    "\n",
    "1. Tokenize\n",
    "2. Embedding\n",
    "3. Masking\n",
    "    1. padding mask\n",
    "    2. look ahead mask\n",
    "4. Positional Encoding\n",
    "5. Encoder\n",
    "    - MHSA\n",
    "    - FFN\n",
    "    - LayerNorm\n",
    "6. Decoder\n",
    "7. Transformer\n",
    "8. Train\n",
    "9. Evaluation"
   ]
  },
  {
   "cell_type": "markdown",
   "metadata": {},
   "source": [
    "# 1. Tokenize\n",
    "\n",
    "토크나이즈의 핵심은 string 타입의 텍스트들을 word 또는 subword로 쪼개어 token화 시켜주고, 각 token들에 int index를 매핑시켜주는 것입니다.\n",
    "\n",
    "Transformer 논문은 `WMT 2014 English-to-German translation`, 데이터를 사용해 영어를 독일어로 번역하는 태스크를 수행하였습니다. \n",
    "이를 위해 저희도 \n",
    "\n",
    "1. 영어 / 독일어 데이터(Multi30k)를 다운 받고\n",
    "2. word, subword로 token화 시켜주는 tokenizer로 tokenize 시켜주고\n",
    "3. train / validation / test 데이터를 분리시키는 작업\n",
    "\n",
    "위 3가지 작업을 수행하겠습니다.\n"
   ]
  },
  {
   "cell_type": "code",
   "execution_count": 8,
   "metadata": {},
   "outputs": [],
   "source": [
    "import os\n",
    "\n",
    "def load_tokenizers():\n",
    "    # Download tokenizer from spacy\n",
    "    try:\n",
    "        spacy_de = spacy.load(\"de_core_news_sm\") # german\n",
    "    except IOError:\n",
    "        os.system(\"python -m spacy download de_core_news_sm\")\n",
    "        spacy_de = spacy.load(\"de_core_news_sm\")\n",
    "\n",
    "    try:\n",
    "        spacy_en = spacy.load(\"en_core_web_sm\") # english\n",
    "    except IOError:\n",
    "        os.system(\"python -m spacy download en_core_web_sm\")\n",
    "        spacy_en = spacy.load(\"en_core_web_sm\")\n",
    "\n",
    "    return spacy_de, spacy_en\n",
    "\n",
    "\n",
    "spacy_de, spacy_en = load_tokenizers()"
   ]
  },
  {
   "cell_type": "code",
   "execution_count": 9,
   "metadata": {},
   "outputs": [
    {
     "name": "stdout",
     "output_type": "stream",
     "text": [
      "['I', 'wish', 'you', 'all', 'the', 'best']\n",
      "['Ich', 'wünsche', 'Ihnen', 'alles', 'Gute']\n"
     ]
    }
   ],
   "source": [
    "def tokenize_english(eng_text):\n",
    "    return [token.text for token in spacy_en.tokenizer(eng_text)]\n",
    "\n",
    "def tokenize_german(german_text):\n",
    "    return [token.text for token in spacy_de.tokenizer(german_text)]\n",
    "\n",
    "print(tokenize_english('I wish you all the best'))\n",
    "print(tokenize_german('Ich wünsche Ihnen alles Gute'))"
   ]
  },
  {
   "cell_type": "markdown",
   "metadata": {},
   "source": [
    "#### `torchtext.data.Field`\n",
    "\n",
    "- `lower`: 텍스트를 소문자로 변환할지 여부를 지정합니다.\n",
    "- `batch_first`: 배치 차원을 첫 번째로 하는 텐서를 생성할지 여부를 지정합니다.\n",
    "\n",
    "\n",
    "또한 transformer의 encoder에 들어갈 input인 `source`, output인 `target`을 독일어 -> 영어로 지정합니다.\n",
    "\n",
    "- `source`: german\n",
    "- `target`: english"
   ]
  },
  {
   "cell_type": "code",
   "execution_count": 10,
   "metadata": {},
   "outputs": [],
   "source": [
    "from torchtext.data import Field\n",
    "\n",
    "UNK = '<unk>' # 0\n",
    "PAD = '<pad>' # 1\n",
    "SOS = '<sos>' # 2\n",
    "EOS = '<eos>' # 3\n",
    "\n",
    "source_process_pipeline = Field(tokenize = tokenize_german,\n",
    "                       init_token = SOS,\n",
    "                       eos_token = EOS,\n",
    "                       pad_token= PAD,\n",
    "                       unk_token=UNK,\n",
    "                       lower = True,\n",
    "                       batch_first = True)\n",
    "target_process_pipeline = Field(tokenize = tokenize_english,\n",
    "                       init_token = SOS,\n",
    "                       eos_token = EOS,\n",
    "                       pad_token= PAD,\n",
    "                       unk_token=UNK,\n",
    "                       lower = True,\n",
    "                       batch_first = True)"
   ]
  },
  {
   "cell_type": "markdown",
   "metadata": {},
   "source": [
    "## [Multi30k](https://pytorch.org/text/stable/datasets.html#multi30k)\n",
    "\n",
    "이제 Multi30k 독일어-영어 번역 작업을 사용한 실제 예제를 살펴보겠습니다. 이 작업은 논문에서 다룬 WMT 작업(대규모 기계 번역 task)보다 훨씬 규모가 작지만, 여전히 전체 시스템을 잘 보여줄 수 있습니다.\n"
   ]
  },
  {
   "cell_type": "code",
   "execution_count": 11,
   "metadata": {},
   "outputs": [],
   "source": [
    "# https://github.com/pytorch/text/issues/1756\n",
    "from torchtext.datasets import Multi30k\n",
    "\n",
    "Multi30k.urls = [\n",
    "    \"https://raw.githubusercontent.com/neychev/small_DL_repo/master/datasets/Multi30k/training.tar.gz\",\n",
    "    \"https://raw.githubusercontent.com/neychev/small_DL_repo/master/datasets/Multi30k/validation.tar.gz\",\n",
    "    \"https://raw.githubusercontent.com/neychev/small_DL_repo/master/datasets/Multi30k/mmt_task1_test2016.tar.gz\",\n",
    "]\n",
    "\n",
    "train_data, validation_data, test_data = Multi30k.splits(exts = ('.de','.en'),\n",
    "                                                       fields = (source_process_pipeline,\n",
    "                                                                target_process_pipeline))"
   ]
  },
  {
   "cell_type": "code",
   "execution_count": 12,
   "metadata": {},
   "outputs": [
    {
     "name": "stdout",
     "output_type": "stream",
     "text": [
      "7853\n",
      "5893\n"
     ]
    }
   ],
   "source": [
    "source_process_pipeline.build_vocab(train_data,min_freq=2)\n",
    "target_process_pipeline.build_vocab(train_data,min_freq=2)\n",
    "\n",
    "print(len(source_process_pipeline.vocab))\n",
    "print(len(target_process_pipeline.vocab))"
   ]
  },
  {
   "cell_type": "code",
   "execution_count": 13,
   "metadata": {},
   "outputs": [
    {
     "name": "stdout",
     "output_type": "stream",
     "text": [
      "[('<unk>', 0), ('<pad>', 1), ('<sos>', 2), ('<eos>', 3), ('.', 4), ('ein', 5), ('einem', 6), ('in', 7), ('eine', 8), (',', 9), ('und', 10), ('mit', 11), ('auf', 12), ('mann', 13), ('einer', 14), ('der', 15), ('frau', 16), ('die', 17), ('zwei', 18), ('einen', 19)]\n",
      "[('<unk>', 0), ('<pad>', 1), ('<sos>', 2), ('<eos>', 3), ('a', 4), ('.', 5), ('in', 6), ('the', 7), ('on', 8), ('man', 9), ('is', 10), ('and', 11), ('of', 12), ('with', 13), ('woman', 14), (',', 15), ('two', 16), ('are', 17), ('to', 18), ('people', 19)]\n"
     ]
    }
   ],
   "source": [
    "print(list(source_process_pipeline.vocab.stoi.items())[:20])\n",
    "print(list(target_process_pipeline.vocab.stoi.items())[:20])\n"
   ]
  },
  {
   "cell_type": "markdown",
   "metadata": {},
   "source": [
    "### Tokenizer 바꿔보기\n",
    "\n",
    "앞서 가져온 spacy의 tokenizer는 단어기반으로 tokenize를 하는 방식입니다. 이 방식의 가장 큰 문제점은, \n",
    "\n",
    "1. 신조어들을 잘 처리할 수 없다는 것\n",
    "2. 뭐해, 뭐함, 뭐를... 같은 비슷한 단어를 다르게 파악합니다.\n",
    "\n",
    "이를 해결하기 위해서 subword 기반의 tokenizer가 주로 사용되고 있으며, 저는 openai의 `tiktoken`을 사용해보겠습니다.\n",
    "\n",
    "- [확인해보기](https://tiktokenizer.vercel.app/?model=o200k_base)\n",
    "\n",
    "![](./imgs/tiktoken.png)\n",
    "\n",
    "위의 링크를 통해서 문장들이 어떻게 tokenize되는지 live로 확인할 수 있습니다.\n",
    "\n",
    "저희는 여기서 `o200k_base` encoder를 사용해보겠습니다. 이 인코더는 참고로 현재 기준(24.07.08) 가장 최신인 `gpt-4o`에서 사용되고 있습니다.\n"
   ]
  },
  {
   "cell_type": "code",
   "execution_count": 14,
   "metadata": {},
   "outputs": [
    {
     "name": "stdout",
     "output_type": "stream",
     "text": [
      "['I', ' wish', ' you', ' all', ' the', ' best']\n",
      "['Ich', ' wünsche', ' Ihnen', ' alles', ' Gute']\n"
     ]
    }
   ],
   "source": [
    "import tiktoken\n",
    "\n",
    "encoding = tiktoken.get_encoding(\"o200k_base\")\n",
    "\n",
    "# pytorch text의 multi30k가 사용할 수 있도록 변형\n",
    "def tokenize(text: str) -> list[str]:\n",
    "    bytes_list = encoding.decode_tokens_bytes(encoding.encode(text))\n",
    "    return [b.decode('utf-8') for b in bytes_list]\n",
    "\n",
    "\n",
    "print(tokenize('I wish you all the best'))\n",
    "print(tokenize('Ich wünsche Ihnen alles Gute'))"
   ]
  },
  {
   "cell_type": "markdown",
   "metadata": {},
   "source": [
    "이제 바뀐 tokenizer로 앞전에 했던 코드들에 적용해주겠습니다."
   ]
  },
  {
   "cell_type": "code",
   "execution_count": 15,
   "metadata": {},
   "outputs": [
    {
     "name": "stdout",
     "output_type": "stream",
     "text": [
      "6623\n",
      "6658\n"
     ]
    }
   ],
   "source": [
    "from torchtext.data import Field\n",
    "\n",
    "UNK = '<unk>' # 0\n",
    "PAD = '<pad>' # 1\n",
    "SOS = '<sos>' # 2\n",
    "EOS = '<eos>' # 3\n",
    "\n",
    "source_process_pipeline = Field(tokenize = tokenize,\n",
    "                       init_token = SOS,\n",
    "                       eos_token = EOS,\n",
    "                       pad_token= PAD,\n",
    "                       unk_token=UNK,\n",
    "                       lower = True,\n",
    "                       batch_first = True)\n",
    "target_process_pipeline = Field(tokenize = tokenize,\n",
    "                       init_token = SOS,\n",
    "                       eos_token = EOS,\n",
    "                       pad_token= PAD,\n",
    "                       unk_token=UNK,\n",
    "                       lower = True,\n",
    "                       batch_first = True)\n",
    "\n",
    "\n",
    "from torchtext.datasets import Multi30k\n",
    "\n",
    "Multi30k.urls = [\n",
    "    \"https://raw.githubusercontent.com/neychev/small_DL_repo/master/datasets/Multi30k/training.tar.gz\",\n",
    "    \"https://raw.githubusercontent.com/neychev/small_DL_repo/master/datasets/Multi30k/validation.tar.gz\",\n",
    "    \"https://raw.githubusercontent.com/neychev/small_DL_repo/master/datasets/Multi30k/mmt_task1_test2016.tar.gz\",\n",
    "]\n",
    "\n",
    "train_data, validation_data, test_data = Multi30k.splits(exts = ('.de','.en'),\n",
    "                                                       fields = (source_process_pipeline,\n",
    "                                                                target_process_pipeline))\n",
    "\n",
    "source_process_pipeline.build_vocab(train_data,min_freq=2)\n",
    "target_process_pipeline.build_vocab(train_data,min_freq=2)\n",
    "\n",
    "print(len(source_process_pipeline.vocab))\n",
    "print(len(target_process_pipeline.vocab))"
   ]
  },
  {
   "cell_type": "code",
   "execution_count": 16,
   "metadata": {},
   "outputs": [
    {
     "data": {
      "text/plain": [
       "[('<unk>', 0),\n",
       " ('<pad>', 1),\n",
       " ('<sos>', 2),\n",
       " ('<eos>', 3),\n",
       " (' a', 4),\n",
       " ('.', 5),\n",
       " ('a', 6),\n",
       " (' in', 7),\n",
       " (' the', 8),\n",
       " (' on', 9),\n",
       " (' is', 10),\n",
       " (' and', 11),\n",
       " (' man', 12),\n",
       " (' of', 13),\n",
       " (' with', 14),\n",
       " (',', 15),\n",
       " (' woman', 16),\n",
       " (' are', 17),\n",
       " (' to', 18),\n",
       " ('two', 19),\n",
       " (' at', 20),\n",
       " (' wearing', 21),\n",
       " (' people', 22),\n",
       " (' shirt', 23),\n",
       " (' white', 24),\n",
       " (' young', 25),\n",
       " (' black', 26),\n",
       " (' his', 27),\n",
       " (' an', 28),\n",
       " (' while', 29),\n",
       " (' blue', 30),\n",
       " (' red', 31),\n",
       " (' sitting', 32),\n",
       " (' girl', 33),\n",
       " (' dog', 34),\n",
       " (' boy', 35),\n",
       " (' standing', 36),\n",
       " (' men', 37),\n",
       " (' playing', 38),\n",
       " (' group', 39),\n",
       " (' street', 40),\n",
       " (' down', 41),\n",
       " (' walking', 42),\n",
       " (' front', 43),\n",
       " (' her', 44),\n",
       " (' holding', 45),\n",
       " (' water', 46),\n",
       " (' by', 47),\n",
       " ('the', 48),\n",
       " ('an', 49)]"
      ]
     },
     "execution_count": 16,
     "metadata": {},
     "output_type": "execute_result"
    }
   ],
   "source": [
    "list(target_process_pipeline.vocab.stoi.items())[:50]"
   ]
  },
  {
   "cell_type": "markdown",
   "metadata": {},
   "source": [
    "독일어는 7853 -> 6623로 줄어들었고,\n",
    "영어는 5893 -> 6658로 커졌습니다."
   ]
  },
  {
   "cell_type": "markdown",
   "metadata": {},
   "source": [
    "### [Bucket Iterator](https://torchtext.readthedocs.io/en/latest/data.html?highlight=bucket#bucketiterator)\n",
    "\n",
    "Pytorch의 dataloader와 비슷한 역할을 한다. 하지만 dataloader 와 다르게 비슷한 길이의 문장들끼리 \n",
    "batch를 만들기 때문에 padding의 개수를 최소화할 수 있다. 내부적으로 [torchtext.data.pool](https://torchtext.readthedocs.io/en/latest/data.html?highlight=bucket#bucketiterator)을 사용합니다."
   ]
  },
  {
   "cell_type": "code",
   "execution_count": 19,
   "metadata": {},
   "outputs": [],
   "source": [
    "from torchtext.data import BucketIterator\n",
    "\n",
    "train_iterator, validation_iterator, test_iterator = BucketIterator.splits(\n",
    "    (train_data, validation_data, test_data), \n",
    "     batch_size = BATCH_SIZE,\n",
    "     device = device)"
   ]
  },
  {
   "cell_type": "code",
   "execution_count": 21,
   "metadata": {},
   "outputs": [
    {
     "data": {
      "text/plain": [
       "(227, 8, 8)"
      ]
     },
     "execution_count": 21,
     "metadata": {},
     "output_type": "execute_result"
    }
   ],
   "source": [
    "len(train_iterator), len(validation_iterator), len(test_iterator)"
   ]
  },
  {
   "cell_type": "markdown",
   "metadata": {},
   "source": [
    "지금까지 저희는 string으로 주어지는 german(de), english(en) 문장들을 openai의 tiktoken을 사용해 subword로 분리시켰으며, 분리된 subword들을 각각 index인 int로 매핑 시켰습니다. \n",
    "\n",
    "이후 학습을 위해 BucketIterator를 사용해, 비슷한 문장길이들끼리 batch를 만들어 train, validation, test 데이터셋을 마련하였습니다.\n",
    "\n",
    "다음으로 이 int로 매핑된 token들을 word embedding으로 처리하여, token간의 상관관계를 계산할 수 있도록 만들어보겠습니다."
   ]
  },
  {
   "cell_type": "markdown",
   "metadata": {},
   "source": [
    "# 2. 임베딩\n",
    "\n",
    "1단계의 tokenize를 통해 문장을 List[int]로 변경하여, 최종적으로 아래와 같은 데이터를 만들었습니다.\n",
    "\n",
    "- Sources (BATCH_SIZE, 배치단위로 패딩된 문장)\n",
    "- Target (BATCH_SIZE, 배치단위로 패딩된 문장)\n",
    "\n",
    "이제 이 입력값들을 받아들일 word embedding을 만들어보도록 하겠습니다.\n",
    "\n",
    "\n",
    "\"Attention is all you need\" 논문의 3.4 Embeddings and Softmax\n",
    "\n",
    "> *We use learned embeddings to convert the input tokens and output tokens to vectors of dimension dmodel.*  \n",
    "\n",
    "Attention논문은 pretrained model이 아닌 모델 학습 과정에서 학습된 learned embeddings을 사용했습니다.\n",
    "\n",
    "> *we share the same weight matrix between the two embedding layers and the pre-softmax linear transformation ...\n",
    "\n",
    "임베딩 레이어와 decoder 위에 존재하는 linear + softmax 레이어의 linear에서 동일한 embedding을 share 했다고 합니다.\n",
    "\n",
    "또한 embedding을 총 3곳에서 share해서 사용해주었습니다. \n",
    "\n",
    "![](./imgs/embedding.png)\n",
    "\n",
    "> *In the embedding layers, we multiply those weights by √dmodel.*\n",
    "\n",
    "마지막으로 embedding layer의 weight를 √dmodel로 스캐일해주었습니다.\n"
   ]
  },
  {
   "cell_type": "code",
   "execution_count": 27,
   "metadata": {},
   "outputs": [
    {
     "name": "stdout",
     "output_type": "stream",
     "text": [
      "[40, 3047, 481]\n",
      "torch.Size([3, 512])\n"
     ]
    },
    {
     "data": {
      "text/plain": [
       "tensor([[ 4.5680e+01,  2.5295e+01, -1.3905e+01,  ...,  3.2018e+01,\n",
       "          1.0669e+01,  2.2317e+01],\n",
       "        [ 6.3884e+00,  7.8825e+00,  1.8101e+01,  ..., -3.6578e+01,\n",
       "         -1.4883e+01, -1.3742e+01],\n",
       "        [-2.0093e-02, -8.1925e+00, -1.2971e+01,  ..., -6.2918e+00,\n",
       "         -2.5926e+01, -3.6113e+01]], grad_fn=<MulBackward0>)"
      ]
     },
     "execution_count": 27,
     "metadata": {},
     "output_type": "execute_result"
    }
   ],
   "source": [
    "import math\n",
    "\n",
    "class Embedding(nn.Module):\n",
    "    def __init__(self, vocab: int, d_model: int):\n",
    "        super(Embedding, self).__init__()\n",
    "        self.embed = nn.Embedding(vocab, d_model)\n",
    "        self.d_model = d_model\n",
    "\n",
    "    def forward(self, x):\n",
    "        return self.embed(x) * math.sqrt(self.d_model)\n",
    "\n",
    "# Test\n",
    "embed = Embedding(60000, 512)  # 60000단어, 512 embedding dimension\n",
    "encoding = tiktoken.get_encoding(\"o200k_base\")\n",
    "encoded = encoding.encode(\"I love you\") # [40, 3047, 481]\n",
    "print(encoded)\n",
    "\n",
    "# 임베딩된 결과\n",
    "result = embed(torch.LongTensor(encoded))\n",
    "print(result.shape)\n",
    "result"
   ]
  },
  {
   "cell_type": "markdown",
   "metadata": {},
   "source": [
    "# 3. Masking"
   ]
  },
  {
   "cell_type": "markdown",
   "metadata": {},
   "source": [
    "Transformer에서는 총 2가지 종류의 masking을 사용합니다.\n",
    "\n",
    "\n",
    "1. padding mask\n",
    "2. look-ahead mask (또는 causal mask라고도 불림)\n",
    "\n",
    "이때 source(input)과 target(output)이 사용하는 mask는 다음과 같습니다.\n",
    "\n",
    "1. source = padding_mask\n",
    "2. target = padding_mask & look_ahead_mask\n",
    "\n",
    "\n",
    "1. Padding 마스크:\n",
    "    - 목적: 배치 처리를 위해 추가된 패딩 토큰을 무시하도록 합니다.\n",
    "    - 적용: Source(인코더 입력)와 Target(디코더 입력) 모두에 적용됩니다.\n",
    "2. Look-ahead 마스크:\n",
    "    - 목적: 미래의 토큰 정보를 가려 자기회귀 속성을 유지합니다.\n",
    "    - 적용: Target(디코더 입력)에만 적용됩니다.\n"
   ]
  },
  {
   "cell_type": "code",
   "execution_count": 32,
   "metadata": {},
   "outputs": [
    {
     "name": "stdout",
     "output_type": "stream",
     "text": [
      "[102052, 136975, 3107, 53736, 2276]\n"
     ]
    },
    {
     "data": {
      "text/plain": [
       "tensor([[ True, False, False, False, False],\n",
       "        [ True,  True, False, False, False],\n",
       "        [ True,  True,  True, False, False],\n",
       "        [ True,  True,  True,  True, False],\n",
       "        [ True,  True,  True,  True,  True]])"
      ]
     },
     "execution_count": 32,
     "metadata": {},
     "output_type": "execute_result"
    }
   ],
   "source": [
    "# 2는 단어, 1은 pad값\n",
    "torch.tensor([[2., 2., 2., 2., 1., 1., 1.],\n",
    "        [2., 2., 1., 1., 1., 1., 1.],\n",
    "        [2., 2., 2., 2., 2., 2., 1.]])\n",
    "\n",
    "# padding mask\n",
    "torch.tensor([[[ True,  True,  True,  True, False, False, False]],\n",
    "        [[ True,  True, False, False, False, False, False]],\n",
    "        [[ True,  True,  True,  True,  True,  True, False]]])\n",
    "\n",
    "\n",
    "# look ahead mask\n",
    "sentence = \"나는 학교에 간다\"\n",
    "encoded = encoding.encode(sentence) # [102052, 136975, 3107, 53736, 2276] \n",
    "print(encoded)\n",
    "\n",
    "# Look-ahead mask: (5, ) -> (5, 5)\n",
    "torch.tensor([\n",
    "        [True, False, False, False, False],\n",
    "        [True, True, False, False, False],\n",
    "        [True, True, True, False, False],\n",
    "        [True, True, True, True, False],\n",
    "        [True, True, True, True, True],\n",
    "    ])"
   ]
  },
  {
   "cell_type": "markdown",
   "metadata": {},
   "source": [
    "**기억해야 할 점은 look ahead mask는 차원이 하나 더 늘어난 다는 점입니다. 이 때문에 padding_mask 또한 동일한 형태를 가져가지 위해서 차원을 하나 더 더해줍니다.**\n",
    "\n",
    "또한 현재 우리는 batch 단위로 max_len가 다르기 때문에, 배치단위로 mask의 seq_len (문장 길이)도 달라져야합니다."
   ]
  },
  {
   "cell_type": "code",
   "execution_count": 40,
   "metadata": {},
   "outputs": [
    {
     "name": "stdout",
     "output_type": "stream",
     "text": [
      "torch.Size([3, 5])\n",
      "Padding mask 테스트============\n",
      "torch.Size([3, 1, 5])\n",
      "tensor([[[ True,  True,  True, False, False]],\n",
      "\n",
      "        [[ True,  True, False, False, False]],\n",
      "\n",
      "        [[ True,  True,  True,  True, False]]])\n",
      "Look-ahead mask 테스트============\n",
      "torch.Size([1, 5, 5])\n",
      "tensor([[[ True, False, False, False, False],\n",
      "         [ True,  True, False, False, False],\n",
      "         [ True,  True,  True, False, False],\n",
      "         [ True,  True,  True,  True, False],\n",
      "         [ True,  True,  True,  True,  True]]])\n",
      "결합된 마스크 (padding + look-ahead) 테스트============\n",
      "torch.Size([3, 5, 5])\n",
      "tensor([[[ True, False, False, False, False],\n",
      "         [ True,  True, False, False, False],\n",
      "         [ True,  True,  True, False, False],\n",
      "         [ True,  True,  True, False, False],\n",
      "         [ True,  True,  True, False, False]],\n",
      "\n",
      "        [[ True, False, False, False, False],\n",
      "         [ True,  True, False, False, False],\n",
      "         [ True,  True, False, False, False],\n",
      "         [ True,  True, False, False, False],\n",
      "         [ True,  True, False, False, False]],\n",
      "\n",
      "        [[ True, False, False, False, False],\n",
      "         [ True,  True, False, False, False],\n",
      "         [ True,  True,  True, False, False],\n",
      "         [ True,  True,  True,  True, False],\n",
      "         [ True,  True,  True,  True, False]]])\n"
     ]
    }
   ],
   "source": [
    "def get_padding_mask(seq: torch.Tensor, pad_idx: int) -> torch.Tensor:\n",
    "    # (batch_size, max_seq_len) -> (batch_size, 1, max_seq_len)\n",
    "    return (seq != pad_idx).unsqueeze(-2)\n",
    "\n",
    "\n",
    "def get_look_ahead_mask(trg) -> torch.Tensor:\n",
    "    # (batch_size, max_seq_len) -> (batch_size, max_seq_len, max_seq_len)\n",
    "    batch_size, seq_len = trg.size()\n",
    "    look_ahead_mask = (\n",
    "        1 - torch.triu(torch.ones(1, seq_len, seq_len, device=trg.device), diagonal=1)\n",
    "    ).bool()\n",
    "\n",
    "    # torch.tril(torch.ones((target_length,target_length), device = self.device)).bool()\n",
    "    return look_ahead_mask\n",
    "\n",
    "\n",
    "# Test\n",
    "pad_idx = 0\n",
    "seq = torch.tensor([[1, 2, 3, 0, 0], [4, 5, 0, 0, 0], [6, 7, 8, 9, 0]])\n",
    "print(seq.shape)\n",
    "\n",
    "print(\"Padding mask 테스트============\")\n",
    "padding_mask = get_padding_mask(seq, pad_idx)\n",
    "print(padding_mask.shape)\n",
    "print(padding_mask)\n",
    "\n",
    "print(\"Look-ahead mask 테스트============\")\n",
    "look_ahead_mask = get_look_ahead_mask(seq)\n",
    "print(look_ahead_mask.shape)\n",
    "print(look_ahead_mask)\n",
    "\n",
    "print(\"결합된 마스크 (padding + look-ahead) 테스트============\")\n",
    "target_mask = padding_mask & look_ahead_mask\n",
    "print(target_mask.shape)\n",
    "print(target_mask)\n"
   ]
  },
  {
   "cell_type": "markdown",
   "metadata": {},
   "source": [
    "# 4. Positional Encoding\n",
    "\n",
    "Transformer 모델에서의 Positional Encoding은 순서 정보를 모델에 주입하는 핵심 요소입니다. RNN과 달리 Transformer는 재귀적 구조를 사용하지 않기 때문에, 이 방법을 통해 시퀀스 내 단어의 위치 정보를 제공합니다.\n",
    "\n",
    "1. **차원**: 임베딩과 동일한 d_model 차원을 가짐\n",
    "2. **적용 방식**: 임베딩에 단순히 더해짐\n",
    "3. **구조**: sin과 cos 함수의 조합으로 구성\n",
    "\n",
    "## 수학적 정의\n",
    "\n",
    "Positional Encoding (PE)는 다음과 같이 정의됩니다:\n",
    "\n",
    "```\n",
    "PE(pos, 2i)   = sin(pos / 10000^(2i/d_model))\n",
    "PE(pos, 2i+1) = cos(pos / 10000^(2i/d_model))\n",
    "```\n",
    "\n",
    "여기서:\n",
    "- `pos`: 시퀀스 내 단어의 위치\n",
    "- `i`: 임베딩 차원의 인덱스\n",
    "- `d_model`: 모델의 임베딩 차원\n",
    "\n",
    "## 주요 특성\n",
    "\n",
    "1. **고정된 패턴**: 학습 없이 미리 계산 가능\n",
    "2. **주기성**: sin과 cos 함수의 사용으로 주기적 패턴 형성\n",
    "3. **상대적 위치 인코딩**: 절대적 위치가 아닌 상대적 위치 정보 제공\n",
    "4. **선형 결합 가능**: 임베딩에 더해져 쉽게 통합\n",
    "\n",
    "## 장점\n",
    "\n",
    "1. **무한한 시퀀스 길이**: 이론적으로 무한한 길이의 시퀀스에 적용 가능\n",
    "2. **Extrapolation**: 학습 시 보지 못한 길이의 시퀀스에도 적용 가능\n",
    "3. **계산 효율성**: 미리 계산하여 저장 가능, 실시간 계산 부담 감소\n",
    "\n",
    "Positional Encoding은 Transformer 모델에 순서 정보를 효과적으로 주입하는 핵심 요소입니다. 단순하면서도 강력한 이 방법은 모델이 시퀀스의 구조를 이해하는 데 중요한 역할을 합니다."
   ]
  },
  {
   "cell_type": "code",
   "execution_count": 45,
   "metadata": {},
   "outputs": [
    {
     "name": "stdout",
     "output_type": "stream",
     "text": [
      "torch.Size([256, 32, 250])\n"
     ]
    },
    {
     "data": {
      "image/png": "[encoded data removed]",
      "text/plain": [
       "<Figure size 1500x900 with 2 Axes>"
      ]
     },
     "metadata": {},
     "output_type": "display_data"
    }
   ],
   "source": [
    "class PositionalEncoding(nn.Module):\n",
    "\n",
    "    def __init__(self, d_model, dropout=0.1, max_seq_len=200):\n",
    "        super(PositionalEncoding, self).__init__()\n",
    "        self.dropout = nn.Dropout(p=dropout)\n",
    "\n",
    "        pe = torch.zeros(max_seq_len, d_model)\n",
    "        position = torch.arange(0, max_seq_len, dtype=torch.float).unsqueeze(1)\n",
    "        div_term = torch.exp(\n",
    "            torch.arange(0, d_model, 2).float() * (-math.log(10000.0) / d_model)\n",
    "        )\n",
    "        pe[:, 0::2] = torch.sin(position * div_term)\n",
    "        pe[:, 1::2] = torch.cos(position * div_term)\n",
    "        pe = pe.unsqueeze(0)\n",
    "        self.register_buffer(\"pe\", pe)\n",
    "\n",
    "    def forward(self, x):\n",
    "        return x + self.pe[:, : x.size(1)].clone().detach()\n",
    "\n",
    "\n",
    "## Test\n",
    "d_model = 250\n",
    "pe = PositionalEncoding(d_model)\n",
    "# (batch, seq_len, d_model)\n",
    "print(pe(torch.Tensor(np.random.rand(256, 32, d_model))).shape)\n",
    "\n",
    "\n",
    "# Visualization\n",
    "fig, ax = plt.subplots(figsize=(15, 9))\n",
    "cax = ax.matshow(pe.pe.squeeze(0))\n",
    "fig.colorbar(cax)\n",
    "ax.set_title('Positional Emcoder Matrix', fontsize=18)\n",
    "ax.set_xlabel('Embedding Dimension', fontsize=14)\n",
    "_ = ax.set_ylabel('Sequence Length', fontsize=14)"
   ]
  },
  {
   "cell_type": "markdown",
   "metadata": {},
   "source": [
    "\n",
    "# 5. Encoder\n",
    "\n",
    "논문 3.1 내용을 토대로 Encoder 스펙을 정리해보겠습니다.\n",
    "\n",
    "> The encoder is composed of a stack of N = 6 identical layers.\n",
    "\n",
    "`Encoder`는 6개의 layer로 동일한 layer로 구성되어있다.\n",
    "\n",
    "> Each layer has two sub-layers. The first is a multi-head self-attention mechanism, and the second is a simple, position-wise fully connected feed-forward network.\n",
    "\n",
    "각 layer는 2개의 `sublayer`로 구성되어있다.\n",
    "\n",
    "1. multi-head self-attention (`MHSA`)\n",
    "2. position-wise fully connected feed-forward network (`FFN`)\n",
    "\n",
    "> We employ a residual connection [10] around each of the two sub-layers, followed by layer normalization [1]. That is, the output of each sub-layer is `LayerNorm(x + Sublayer(x))`, where Sublayer(x) is the function implemented by the sub-layer itself.\n",
    "\n",
    "모든 sublayer의 output은 아래 수식이 적용되어야 한다. Input x가 주어질때:\n",
    "\n",
    "1. `Residual Connection`: `x + sublayer(x)`\n",
    "2. `LayerNorm(1번결과)`\n",
    "\n",
    "또한 해당 논문의 5.4 Regularization을 살펴보면 아래 구절이 존재합니다.\n",
    "\n",
    "> Residual Dropout We apply dropout [27] to the output of each sub-layer, before it is added to the sub-layer input and normalized.... For the base model, we use a rate of Pdrop = 0.1.\n",
    "\n",
    "즉 정리하면 모든 sublayer들은(decoder도 마찬가지로) 최종적으로 다음 수식을 따릅니다. `LayerNorm(x + Dropout(Sublayer(x)), 0.1)`\n",
    "\n",
    "> In addition, we apply dropout to the sums of the embeddings and the positional encodings in both the encoder and decoder stacks.\n",
    "\n",
    "\n",
    "@TODO...?\n",
    "\n",
    "\n",
    "> To facilitate these residual connections, all sub-layers in the model, as well as the embedding layers, produce outputs of dimension dmodel = 512.\n",
    "\n",
    "모든 output dimension `d_model`은 512이다.\n",
    "\n",
    "이외에도 encoder는 `padding mask`를 사용하여, padding으로 채워진 쓰래기 값은 attention에 고려하지 않습니다."
   ]
  },
  {
   "cell_type": "code",
   "execution_count": 22,
   "metadata": {},
   "outputs": [],
   "source": [
    "import copy\n",
    "\n",
    "\n",
    "def clones(module, N):\n",
    "    return nn.ModuleList([copy.deepcopy(module) for _ in range(N)])\n",
    "\n",
    "\n",
    "class Encoder(nn.Module):\n",
    "    def __init__(self, layer, N = 6):\n",
    "        super(Encoder, self).__init__()\n",
    "        self.layers = clones(layer, N)\n",
    "        self.norm = LayerNorm(layer.size)\n",
    "\n",
    "    def forward(self, x, padding_mask):\n",
    "        for layer in self.layers:\n",
    "            x = layer(x, padding_mask)\n",
    "        return self.norm(x)"
   ]
  },
  {
   "cell_type": "markdown",
   "metadata": {},
   "source": [
    "`Encoder`는 6개의 identical한 sublayer로 구성되어있으며, padding_mask를 사용하여 학습합니다."
   ]
  },
  {
   "cell_type": "markdown",
   "metadata": {},
   "source": [
    "# 6. Decoder\n",
    "\n",
    "> The decoder is also composed of a stack of N = 6 identical layers\n",
    "\n",
    "`Decoder`는 6개의 동일한 layer로 구성되어있다.\n",
    "\n",
    "> In addition to the two sub-layers in each encoder layer, the decoder inserts a third sub-layer, which performs multi-head attention over the output of the encoder stack.\n",
    "\n",
    "디코더의 각 layer는 3개의 sublayer로 구성되어있다.\n",
    "\n",
    "1. Masked multi-head self-attention (`Masked MHSA`)\n",
    "2. Position-wise fully connected feed forward network (`FFN`)\n",
    "3. **Encoder-Decoder attention**\n",
    "\n",
    "> Similar to the encoder, we employ residual connections around each of the sub-layers, followed by layer normalization.\n",
    "\n",
    "모든 sublayer는 input x에 대해서 `LayerNorm(x + Sublayer(x))`를 수행해야 한다.\n",
    "\n",
    "> We also modify the self-attention sub-layer in the decoder stack to prevent positions from attending to subsequent positions. This masking, combined with fact that the output embeddings are offset by one position, ensures that the predictions for position i can depend only on the known outputs at positions less than i.\n",
    "\n",
    "디코더의 마스킹은 encoder가 사용하는 `padding mask`과 `Look-ahead masking`을 결합하여 사용합니다. 룩어헤드 마스크를 통해서 디코더는 현재 위치(i)가 다음 토큰을 생성할 때, `[i+1:]`에 존재하는 토큰들을 참조하지 않도록 합니다.\n",
    "\n",
    "이런 학습을 통해서, 학습이 끝난 뒤 실제 inference(추론)할 때와 같은 환경을 조성할 수 있습니다. 추론시에는 정답지 없이 모델이 미래 토큰들을 만들어야 하기 때문입니다."
   ]
  },
  {
   "cell_type": "markdown",
   "metadata": {},
   "source": [
    "# 7. Transformer\n"
   ]
  },
  {
   "cell_type": "code",
   "execution_count": 56,
   "metadata": {},
   "outputs": [],
   "source": [
    "class Transformer(nn.Module):\n",
    "\n",
    "    def __init__(\n",
    "        self,\n",
    "        encoder,\n",
    "        decoder,\n",
    "        source_pad_idx,\n",
    "        target_pad_idx,\n",
    "        device,\n",
    "    ):\n",
    "\n",
    "        super().__init__()\n",
    "\n",
    "        self.encoder = encoder\n",
    "        self.decoder = decoder\n",
    "        self.source_pad_index = source_pad_idx\n",
    "        self.target_pad_index = target_pad_idx\n",
    "        self.device = device\n",
    "\n",
    "    # Source mask = padding mask\n",
    "    def get_source_mask(self, source):\n",
    "        # source  = (bsize, source_len)\n",
    "        # 0: pad, 1: value\n",
    "        source_mask = source != self.source_pad_index\n",
    "\n",
    "        # unsqueeze(i) operation adds an i_th dimension to the item\n",
    "        source_mask = source_mask.unsqueeze(1)  # (bsize,1,source_len)\n",
    "        source_mask = source_mask.unsqueeze(2)  # (bsize,1,1,source_len)\n",
    "\n",
    "        # source_mask will be applied after calculating-\n",
    "        # the attention which has 4 dimensions (bsize,n_attn_heads,qlen,klen)\n",
    "        return source_mask\n",
    "\n",
    "    # Target mask = padding mask + look-ahead mask\n",
    "    def get_target_mask(self, target):\n",
    "        # target = (bsize,target_len)\n",
    "        target_length = target.shape[1]\n",
    "    \n",
    "        # (bsize,1,1,target_len)\n",
    "        target_pad_mask = (target != self.target_pad_index).unsqueeze(1).unsqueeze(2)\n",
    "\n",
    "        # tril = 행렬의 하부 삼각 부분\n",
    "        target_subsequent_mask = torch.tril(\n",
    "            torch.ones((target_length, target_length), device=self.device)\n",
    "        ).bool()  # (target_len, target_len)\n",
    "\n",
    "        return target_subsequent_mask & target_pad_mask  # (bsize,1,tlen,tlen)\n",
    "\n",
    "    def forward(self, source, target):\n",
    "        # source = (bsize,slen)\n",
    "        # target = (bsize,tlen)\n",
    "\n",
    "        source_mask = self.get_source_mask(source)  # (bsize,1,1,slen)\n",
    "        target_mask = self.get_target_mask(target)  # (bsize,1,tlen,tlen)\n",
    "\n",
    "        encoder_output = self.encoder(source, source_mask)  # (bsize,slen,hdim)\n",
    "        decoder_output, decoder_attention = self.decoder(\n",
    "            target,\n",
    "            encoder_output,\n",
    "            source_mask,\n",
    "            target_mask,\n",
    "        ) \n",
    "        # decoder_output = (bsiz,tlen,output_dim)\n",
    "        # decoder_attention = (bsize,num_attn_heads,tlen,slen)\n",
    "        return decoder_output, decoder_attention\n"
   ]
  },
  {
   "cell_type": "code",
   "execution_count": 26,
   "metadata": {},
   "outputs": [],
   "source": [
    "import torch\n",
    "from torch import nn\n",
    "from torch.nn.functional import log_softmax\n",
    "\n",
    "\n",
    "class Transformer(nn.Module):\n",
    "    def __init__(self, encoder, decoder, i_embed, o_embed, generator):\n",
    "        super(Transformer, self).__init__()\n",
    "        self.encoder = encoder\n",
    "        self.decoder = decoder\n",
    "        self.i_embed = i_embed\n",
    "        self.o_embed = o_embed\n",
    "        self.generator = generator # LinearSoftmax\n",
    "\n",
    "    def forward(self, inp, oup, in_mask, out_mask):\n",
    "        \"\"\"\n",
    "        Args:\n",
    "            in_mask (Tensor): Padding mask applied to the input sequence\n",
    "            out_mask (Tensor): Look-ahead mask applied to the output sequence\n",
    "        \"\"\"\n",
    "        enc_output = self.encoder(self.i_embed(inp), in_mask)\n",
    "        self.decoder(\n",
    "            self.o_embed(oup), out_mask, # masked attention return is Q\n",
    "            enc_output, in_mask # K, V\n",
    "        )\n",
    "\n",
    "# Last layer\n",
    "class LinearSoftmax(nn.Module):\n",
    "    \"Define standard linear + softmax generation step.\"\n",
    "\n",
    "    def __init__(self, d_model, vocab):\n",
    "        super(LinearSoftmax, self).__init__()\n",
    "        # (... ,in) -> (..., out)\n",
    "        self.proj = nn.Linear(in_features=d_model, out_features=vocab)\n",
    "\n",
    "    def forward(self, x):\n",
    "        return log_softmax(self.proj(x), dim=-1) # out dim(vocab)에 대해서 softmax\n"
   ]
  },
  {
   "cell_type": "markdown",
   "metadata": {},
   "source": [
    "## log_softmax\n",
    "> https://pytorch.org/docs/stable/generated/torch.nn.LogSoftmax.html#torch.nn.LogSoftmax\n",
    "\n",
    "### 1. log_softmax 사용하는 이유\n",
    "\n",
    "1. 단조 함수 (monotonic function)\n",
    "Softmax 함수를 통해 입력 벡터를 확률 분포로 변환한 후, 이 확률 분포에서 가장 높은 값을 가지는 요소, 즉 \"max값\"을 알아내고자 합니다. 이때 softmax 함수의 결과에 log를 취하면, max값을 찾는 과정에서 변화가 없습니다. 왜냐하면 log 함수는 monotonic한 함수이기 때문에 입력 값의 순서를 유지하며, softmax의 결과에서 가장 큰 값이었던 요소는 log를 취해도 여전히 가장 큰 값으로 남아 있습니다.\n",
    "\n",
    "2. overflow 방지\n",
    "또한, log를 취함으로써 얻는 이점 중 하나는 수치적 안정성입니다. softmax 함수는 지수 함수를 포함하므로, 입력 값이 크면 결과값도 매우 크게 증가할 수 있습니다. \n",
    "이때 $e^\\infty$ 인 경우 numpy float으로 표현할 수 있는 값을 넘어갈 수 있어 overflow가 발생할 수 있습니다. 이를 방지하기 위해서 pytorch에서는 `log_softmax()`, `logsumexp()`를 제공합니다.\n",
    "\n",
    "따라서 log(softmax) 함수는 softmax의 확률 값을 변환하되, 확률 분포에서의 max값을 유지하며, 수치적으로 안정성이 더 좋은 결과를 제공하는 함수로 사용될 수 있습니다.\n",
    "\n",
    "다음으로 어떻게 log_softmax가 exp를 안정적으로 계산하여, overflow를 방지하고 있는지를 살펴보도록 하겠습니다.\n",
    "\n",
    "로그를 취하면 큰 값이 덧셈으로 변환되므로 수치적으로 안정한 계산이 가능합니다.\n",
    "\n",
    "\n",
    "## 2. log\\_softmax 수식\n",
    "\n",
    "log\\_softmax 함수는 주어진 벡터 $\\mathbf{x} = [x_1, x_2, \\ldots, x_n]$에 대해 pytorch에서는 다음과 같이 계산됩니다:\n",
    "\n",
    "$$\n",
    "\\text{log\\_softmax}(x_i) = x_i - c - \\log \\left( \\sum_{j=1}^{n} e^{x_j - c} \\right)\n",
    "$$\n",
    "\n",
    "이때 $c$는 벡터 $ \\mathbf{x} $의 최대값이라고 정의합니다.\n",
    "\n",
    "$ c = \\max(x_1, x_2, \\ldots, x_N) $\n",
    "\n",
    "c를 빼줌으로써, $e^\\text{매우큰수}$ 인 경우를 배제하여 overflow를 방지할 수 있습니다. \n",
    "\n",
    "그럼 이제 위의 수식이 어떻게 나오게 되었는지 아래에서 확인 해보겠습니다.\n",
    "\n",
    "\n",
    "### 원래의 소프트맥스 수식\n",
    "\n",
    "소프트맥스 함수는 다음과 같이 정의됩니다:\n",
    "\n",
    "$$\n",
    "\\text{softmax}(x_i) = \\frac{e^{x_i}}{\\sum_{j=1}^{n} e^{x_j}}\n",
    "$$\n",
    "\n",
    "### 로그 소프트맥스\n",
    "\n",
    "소프트맥스 함수의 출력에 로그를 취하면 다음과 같습니다:\n",
    "\n",
    "$$\n",
    "\\log \\left( \\text{softmax}(x_i) \\right) = \\log \\left( \\frac{e^{x_i}}{\\sum_{j=1}^{n} e^{x_j}} \\right)\n",
    "$$\n",
    "\n",
    "로그의 성질을 이용하여 분자와 분모를 분리하면:\n",
    "\n",
    "$$\n",
    "\\log \\left( \\text{softmax}(x_i) \\right) = \\log(e^{x_i}) - \\log \\left( \\sum_{j=1}^{n} e^{x_j} \\right)\n",
    "$$\n",
    "\n",
    "이는 다음과 같이 단순화됩니다:\n",
    "\n",
    "$$\n",
    "\\log \\left( \\text{softmax}(x_i) \\right) = x_i - \\log \\left( \\sum_{j=1}^{n} e^{x_j} \\right)\n",
    "$$\n",
    "\n",
    "하지만 여전히 뒤에, exp(x)에서 x가 무한히 클 경우 overflow가 발생할 수 있습니다. 이렇게 뒤쪽에 있는 log sum exp를 pytorch에서는 [torch.logsumexp](https://pytorch.org/docs/stable/generated/torch.logsumexp.html)로 구현해주고 있으며, 아래와 같이 trick을 사용해서 계산합니다.\n",
    "\n",
    "### logsumexp\n",
    "\n",
    "`logsumexp`를 구현해주기 위해서, 먼저, $ c $를 벡터 $ \\mathbf{x} $의 최대값이라고 정의합니다:\n",
    "\n",
    "$ c = \\max(x_1, x_2, \\ldots, x_N) $\n",
    "\n",
    "이후 아래의 지수함수 성질을 이용합니다.\n",
    "\n",
    "$ e^{a + b} = e^{a} \\cdot e^{b} $\n",
    "\n",
    "지수함수 성질을 통해, 원래 수식을 다음과 같이 재정렬할 수 있습니다:\n",
    "$ e^{x_n} = e^{(x_n - c) + c} = e^{x_n - c} \\cdot e^{c} $\n",
    "\n",
    "#### 3. 지수 함수 성질 적용\n",
    "위의 성질을 원래 수식에 적용해봅시다:\n",
    "$ \\sum_{n=1}^{N} e^{x_n} = \\sum_{n=1}^{N} e^{x_n - c} \\cdot e^{c} $\n",
    "\n",
    "여기서 $e^{c}$는 상수이므로 sigma 밖으로 빼낼 수 있습니다:\n",
    "$ \\sum_{n=1}^{N} e^{x_n} = e^{c} \\sum_{n=1}^{N} e^{x_n - c} $\n",
    "\n",
    "이를 다시 정리하면:\n",
    "\n",
    "$$ \n",
    "sumexp = \\sum_{n=1}^{N} e^{x_n} = e^{c} \\sum_{n=1}^{N} e^{x_n - c}\n",
    "$$\n",
    "\n",
    "\n",
    "$$\n",
    "\\log (sumexp) = \\log \\left( e^c \\sum_{j=1}^{n} e^{x_j - c} \\right) = c + \\log \\left( \\sum_{j=1}^{n} e^{x_j - c} \\right)\n",
    "$$\n",
    "\n",
    "이를 이용하여 log\\_softmax 수식을 다시 쓰면:\n",
    "\n",
    "$$\n",
    "\\text{log\\_softmax}(x_i) = x_i - \\log (sumexp)\n",
    "$$\n",
    "\n",
    "$$\n",
    "\\text{log\\_softmax}(x_i) = x_i - c - \\log \\left( \\sum_{j=1}^{n} e^{x_j - c} \\right)\n",
    "$$\n",
    "\n",
    "이 변형을 통해 매우 큰 값에 대해 수치적으로 안정적인 계산이 가능하게 됩니다.\n",
    "\n",
    "\n",
    "## c.f softmax vs log_softmax\n",
    "\n",
    "이제 softmax와 log_softmax를 비교해보겠습니다."
   ]
  },
  {
   "cell_type": "code",
   "execution_count": 27,
   "metadata": {},
   "outputs": [
    {
     "name": "stdout",
     "output_type": "stream",
     "text": [
      "Softmax output (overflow): tensor([nan, nan, nan])\n",
      "Log softmax output (stability): tensor([-2000., -1000.,     0.])\n"
     ]
    }
   ],
   "source": [
    "import torch\n",
    "import torch.nn.functional as F\n",
    "\n",
    "inputs = torch.tensor([1000.0, 2000.0, 3000.0])\n",
    "\n",
    "def softmax(x):\n",
    "    exp_x = torch.exp(x)\n",
    "    sum_exp_x = torch.sum(exp_x)\n",
    "    return exp_x / sum_exp_x\n",
    "\n",
    "def log_softmax(x):\n",
    "    c = torch.max(x)\n",
    "    logsumexp = torch.log(torch.sum(torch.exp(x - c)))\n",
    "    return x - c - logsumexp\n",
    "\n",
    "\n",
    "print(\"Softmax output (overflow):\", softmax(inputs))\n",
    "\n",
    "# log_softmax_output = F.log_softmax(inputs, dim=0)\n",
    "print(\"Log softmax output (stability):\", log_softmax(inputs))"
   ]
  },
  {
   "cell_type": "markdown",
   "metadata": {},
   "source": [
    "## 1-2. Encoder layer\n",
    "\n",
    "The encoder is composed of a stack of N = 6 identical layers.\n",
    "\n",
    "\n",
    "\n",
    "### Residual Dropout (5.4)\n",
    ">  We apply dropout [27] to the output of each sub-layer, before it is added to the\n",
    "sub-layer input and normalized. In addition, we apply dropout to the sums of the embeddings and the\n",
    "positional encodings in both the encoder and decoder stacks.\n"
   ]
  },
  {
   "cell_type": "code",
   "execution_count": 54,
   "metadata": {},
   "outputs": [],
   "source": [
    "import copy\n",
    "\n",
    "def clones(module, N):\n",
    "    \"Produce N identical layers.\"\n",
    "    return nn.ModuleList([copy.deepcopy(module) for _ in range(N)])\n",
    "\n",
    "\n",
    "class Encoder(nn.Module):\n",
    "    \"Core encoder is a stack of N layers\"\n",
    "\n",
    "    def __init__(self, layer, N):\n",
    "        super(Encoder, self).__init__()\n",
    "        self.layers = clones(layer, N)\n",
    "        self.norm = LayerNorm(layer.size)\n",
    "\n",
    "    def forward(self, x, padding_mask):\n",
    "        for layer in self.layers:\n",
    "            x = layer(x, padding_mask) # norm -> dropout\n",
    "        return self.norm(x)\n",
    "\n",
    "\n",
    "# Layer norm test\n",
    "class LayerNorm(nn.Module):\n",
    "    \"\"\"Construct a layernorm module\n",
    "\n",
    "    d_model 방향으로 평균, 표준편차 계산한다.\n",
    "    \"\"\"\n",
    "\n",
    "    def __init__(self, features, eps=1e-5):\n",
    "        super(LayerNorm, self).__init__()\n",
    "        self.w = nn.Parameter(torch.ones(features))\n",
    "        self.b = nn.Parameter(torch.zeros(features))\n",
    "        self.eps = eps\n",
    "\n",
    "    def forward(self, x):\n",
    "        mean = x.mean(-1, keepdim=True) # x is (batch, sentence, d_model)\n",
    "        std = x.std(-1, keepdim=True)\n",
    "        return self.w * (x - mean) / (std + self.eps) + self.b\n"
   ]
  },
  {
   "cell_type": "markdown",
   "metadata": {},
   "source": [
    "## 논문 상에서 Layer normalization\n",
    "\n",
    "> Unless otherwise noted, the default initialization of layer normalization is to set the adaptive gains to 1 and the biases to 0  ([Layer normalization 6.](https://arxiv.org/pdf/1607.06450))\n",
    "\n",
    "- alpha: 1\n",
    "- beta: 0\n",
    "\n",
    "구현한 layer normalization을 pytorch 구현체와 비교해봅니다."
   ]
  },
  {
   "cell_type": "code",
   "execution_count": 55,
   "metadata": {},
   "outputs": [
    {
     "name": "stdout",
     "output_type": "stream",
     "text": [
      "torch.Size([2, 3, 1])\n",
      "tensor([[[-0.8275, -0.0135,  0.6378,  ..., -1.2619,  0.0085, -1.2845],\n",
      "         [ 0.5016, -1.5572,  0.2296,  ...,  0.3337, -0.2966, -0.9650],\n",
      "         [-0.0318,  0.4579, -1.8165,  ..., -0.1260,  0.7774, -0.2929]],\n",
      "\n",
      "        [[ 0.9011, -0.1162, -1.1876,  ..., -2.0658, -1.3579,  2.4320],\n",
      "         [-0.2494,  1.5145,  0.6840,  ...,  0.0284, -0.7935,  0.1723],\n",
      "         [-1.3209,  0.4843,  1.5879,  ...,  0.9951, -1.4229, -1.6999]]],\n",
      "       grad_fn=<AddBackward0>)\n",
      "tensor([[[-0.8283, -0.0135,  0.6384,  ..., -1.2632,  0.0085, -1.2858],\n",
      "         [ 0.5021, -1.5587,  0.2298,  ...,  0.3341, -0.2969, -0.9660],\n",
      "         [-0.0318,  0.4583, -1.8183,  ..., -0.1261,  0.7782, -0.2931]],\n",
      "\n",
      "        [[ 0.9020, -0.1163, -1.1888,  ..., -2.0678, -1.3593,  2.4344],\n",
      "         [-0.2497,  1.5159,  0.6847,  ...,  0.0285, -0.7942,  0.1725],\n",
      "         [-1.3222,  0.4848,  1.5895,  ...,  0.9961, -1.4243, -1.7016]]],\n",
      "       grad_fn=<NativeLayerNormBackward0>)\n"
     ]
    }
   ],
   "source": [
    "batch_size = 2\n",
    "seq_length = 3\n",
    "d_model = 512\n",
    "input_tensor = torch.randn(batch_size, seq_length, d_model)\n",
    "print(LayerNorm(d_model)(input_tensor))\n",
    "# check pytorch layer norm\n",
    "print(nn.LayerNorm(d_model)(input_tensor)) # random seed 영향"
   ]
  },
  {
   "cell_type": "markdown",
   "metadata": {},
   "source": [
    "## Layer normalization vs Batch normalization\n",
    "\n",
    "![](https://i.sstatic.net/E3104.png)\n",
    "\n",
    "위 그림에서 Feature를 d_model로 생각하면, layer normalization의 경우, 한 문장의 한 토큰이 가진 d_model들의 평균과 분산을 구해서 normalization을 진행합니다. 이는 배치와 문장들에 상관없이 평균 / 분산이 계산됩니다. `(batch, seq_len, 1)`\n",
    "\n",
    "Batch normalization의 경우, 하나의 배치안에 존재하는 모든 sentence 문장들에 대해서 평균을 구합니다. 즉 \"love\"라는 단어와, \"hate\"라는 단어가 각각 512차원으로 하나의 배치의 문장들에 포함되어있을 경우, 0~511 index 각각 값들을 모든 배치안의 모든 문장안의 모든 단어들에 대해서 값들을 얻어와 평균과 분산을 계산합니다. `(1,512)`\n",
    "\n",
    "\n",
    "## 아래 코드 적용\n",
    "주어진 input tensor input_tensor은 (batch_size, seq_length, d_model)의 형태에 대하여\n",
    "\n",
    "`Layer normalization`은 d_model 차원에 대해 각각의 샘플(문장)에 대해 평균과 표준 편차를 계산합니다. 이를 통해 (batch_size, seq_length, 1)의 평균, 표준편차가 만들어집니다. 이 과정을 통해 각 샘플의 각 feature dimension이 평균 0, 분산 1에 가까워지게 됩니다.\n",
    "\n",
    "\n",
    "`Batch normalization`은 한 번에 전체 batch의 모든 샘플에 대해 각 feature dimension을 정규화합니다. 따라서 입력의 모든 샘플에 대해 평균과 표준 편차를 계산하고, 이를 사용하여 정규화를 수행합니다. 이를 통해 평균과 표준편차는 (1, 1, d_model)의 shape를 가집니다. Batch normalization은 전체 batch의 모든 샘플에 대해 계산하기 때문에, 데이터의 분포를 안정화시키고 학습 과정을 안정화시키는 데 도움을 줍니다.\n",
    "\n",
    "\n",
    "**Layer normalization 처럼 각 토큰들에 대해서 독립적으로 평균 / 분산을 계산해서 normalization을 하는 것이 nlp에서는 실험결과 더 효과적이라고 평가합니다.**"
   ]
  },
  {
   "cell_type": "code",
   "execution_count": 42,
   "metadata": {},
   "outputs": [
    {
     "name": "stdout",
     "output_type": "stream",
     "text": [
      "tensor([[[1., 1., 1.,  ..., 1., 1., 1.],\n",
      "         [2., 2., 2.,  ..., 2., 2., 2.],\n",
      "         [3., 3., 3.,  ..., 3., 3., 3.]],\n",
      "\n",
      "        [[1., 1., 1.,  ..., 1., 1., 1.],\n",
      "         [2., 2., 2.,  ..., 2., 2., 2.],\n",
      "         [3., 3., 3.,  ..., 3., 3., 3.]]])\n",
      "torch.Size([2, 3, 1])\n",
      "Output Tensor: tensor([[[0., 0., 0.,  ..., 0., 0., 0.],\n",
      "         [0., 0., 0.,  ..., 0., 0., 0.],\n",
      "         [0., 0., 0.,  ..., 0., 0., 0.]],\n",
      "\n",
      "        [[0., 0., 0.,  ..., 0., 0., 0.],\n",
      "         [0., 0., 0.,  ..., 0., 0., 0.],\n",
      "         [0., 0., 0.,  ..., 0., 0., 0.]]], grad_fn=<AddBackward0>)\n"
     ]
    },
    {
     "data": {
      "text/plain": [
       "tensor([[[0., 0., 0.,  ..., 0., 0., 0.],\n",
       "         [0., 0., 0.,  ..., 0., 0., 0.],\n",
       "         [0., 0., 0.,  ..., 0., 0., 0.]],\n",
       "\n",
       "        [[0., 0., 0.,  ..., 0., 0., 0.],\n",
       "         [0., 0., 0.,  ..., 0., 0., 0.],\n",
       "         [0., 0., 0.,  ..., 0., 0., 0.]]], grad_fn=<NativeLayerNormBackward0>)"
      ]
     },
     "execution_count": 42,
     "metadata": {},
     "output_type": "execute_result"
    }
   ],
   "source": [
    "def test_custom_init(batch_size, seq_length, d_model):\n",
    "    input_tensor = torch.zeros(batch_size, seq_length, d_model)\n",
    "    for i in range(seq_length):\n",
    "        init_value = i + 1\n",
    "        input_tensor[:, i, :] = init_value  # 각 seq_length에 따라 d_model의 값을 초기화\n",
    "    return input_tensor\n",
    "\n",
    "input_tensor = test_custom_init(batch_size, seq_length, d_model)\n",
    "print(input_tensor)\n",
    "\n",
    "output_tensor = LayerNorm(d_model)(input_tensor)\n",
    "print(\"Output Tensor:\", output_tensor)\n",
    "\n",
    "# check pytorch layer norm\n",
    "nn.LayerNorm(d_model)(input_tensor)"
   ]
  },
  {
   "cell_type": "code",
   "execution_count": 53,
   "metadata": {},
   "outputs": [
    {
     "name": "stdout",
     "output_type": "stream",
     "text": [
      "torch.Size([2, 512, 3])\n",
      "tensor([[[1., 2., 3.],\n",
      "         [1., 2., 3.],\n",
      "         [1., 2., 3.],\n",
      "         ...,\n",
      "         [1., 2., 3.],\n",
      "         [1., 2., 3.],\n",
      "         [1., 2., 3.]],\n",
      "\n",
      "        [[1., 2., 3.],\n",
      "         [1., 2., 3.],\n",
      "         [1., 2., 3.],\n",
      "         ...,\n",
      "         [1., 2., 3.],\n",
      "         [1., 2., 3.],\n",
      "         [1., 2., 3.]]])\n"
     ]
    },
    {
     "data": {
      "text/plain": [
       "tensor([[[-1.2247, -1.2247, -1.2247,  ..., -1.2247, -1.2247, -1.2247],\n",
       "         [ 0.0000,  0.0000,  0.0000,  ...,  0.0000,  0.0000,  0.0000],\n",
       "         [ 1.2247,  1.2247,  1.2247,  ...,  1.2247,  1.2247,  1.2247]],\n",
       "\n",
       "        [[-1.2247, -1.2247, -1.2247,  ..., -1.2247, -1.2247, -1.2247],\n",
       "         [ 0.0000,  0.0000,  0.0000,  ...,  0.0000,  0.0000,  0.0000],\n",
       "         [ 1.2247,  1.2247,  1.2247,  ...,  1.2247,  1.2247,  1.2247]]],\n",
       "       grad_fn=<TransposeBackward0>)"
      ]
     },
     "execution_count": 53,
     "metadata": {},
     "output_type": "execute_result"
    }
   ],
   "source": [
    "# Compare with batch norm\n",
    "\n",
    "# pytorch BatchNorm1d input (batch, features seq_length) \n",
    "# (2,3,512) -> (2,512,3)\n",
    "input_tensor_transposed = input_tensor.transpose(1, 2) #  (batch_size, seq_length, d_model) -> (batch_size, d_model, seq_length)\n",
    "print(input_tensor_transposed.shape)\n",
    "print(input_tensor_transposed)\n",
    "nn.BatchNorm1d(d_model)(input_tensor_transposed).transpose(1,2)"
   ]
  },
  {
   "cell_type": "code",
   "execution_count": 33,
   "metadata": {},
   "outputs": [],
   "source": [
    "class Decoder(nn.Module):\n",
    "    \"Generic N layer decoder with masking.\"\n",
    "\n",
    "    def __init__(self, layer, N):\n",
    "        super(Decoder, self).__init__()\n",
    "        self.layers = deepcopy(layer, N)\n",
    "        self.norm = LayerNorm(layer.size)\n",
    "\n",
    "    def forward(self, x, memory, src_mask, tgt_mask):\n",
    "        for layer in self.layers:\n",
    "            x = layer(x, memory, src_mask, tgt_mask)\n",
    "        return self.norm(x)\n",
    "\n",
    "class DecoderLayer(nn.Module):\n",
    "    \"Decoder is made of self-attn, src-attn, and feed forward (defined below)\"\n",
    "\n",
    "    def __init__(self, size, self_attn, src_attn, feed_forward, dropout):\n",
    "        super(DecoderLayer, self).__init__()\n",
    "        self.size = size\n",
    "        self.self_attn = self_attn\n",
    "        self.src_attn = src_attn\n",
    "        self.feed_forward = feed_forward\n",
    "        self.sublayer = deepcopy(SublayerConnection(size, dropout), 3)\n",
    "\n",
    "    def forward(self, x, memory, src_mask, tgt_mask):\n",
    "        \"Follow Figure 1 (right) for connections.\"\n",
    "        m = memory\n",
    "        x = self.sublayer[0](x, lambda x: self.self_attn(x, x, x, tgt_mask))\n",
    "        x = self.sublayer[1](x, lambda x: self.src_attn(x, m, m, src_mask))\n",
    "        return self.sublayer[2](x, self.feed_forward)    "
   ]
  },
  {
   "cell_type": "markdown",
   "metadata": {},
   "source": [
    "## refs\n",
    "\n",
    "### paper\n",
    "- https://arxiv.org/pdf/1706.03762\n",
    "\n",
    "### vis\n",
    "- https://bbycroft.net/llm\n",
    "- https://docs.google.com/spreadsheets/d/10O-amPDV4zvnZZedlqX33pLFxlO4jj8CbhY6jzdk5rw/edit?gid=260373902#gid=260373902\n",
    "- https://jalammar.github.io/illustrated-transformer/\n",
    "- https://jalammar.github.io/illustrated-gpt2/\n",
    "\n",
    "### impl\n",
    "- karpathy: https://github.com/karpathy/build-nanogpt\n",
    "- https://nlp.seas.harvard.edu/annotated-transformer/#attention-visualization\n",
    "- https://course.fast.ai/Lessons/lesson24.html\n",
    "- https://github.com/jadore801120/attention-is-all-you-need-pytorch\n"
   ]
  },
  {
   "cell_type": "markdown",
   "metadata": {},
   "source": []
  }
 ],
 "metadata": {
  "kernelspec": {
   "display_name": "gpt",
   "language": "python",
   "name": "python3"
  },
  "language_info": {
   "codemirror_mode": {
    "name": "ipython",
    "version": 3
   },
   "file_extension": ".py",
   "mimetype": "text/x-python",
   "name": "python",
   "nbconvert_exporter": "python",
   "pygments_lexer": "ipython3",
   "version": "3.12.4"
  }
 },
 "nbformat": 4,
 "nbformat_minor": 2
}
